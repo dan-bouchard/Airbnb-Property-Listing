{
 "cells": [
  {
   "cell_type": "markdown",
   "metadata": {},
   "source": [
    "# Airbnb Property Listing - Classification Modelling with Numerical Data\n",
    "\n",
    "## Library Imports"
   ]
  },
  {
   "cell_type": "code",
   "execution_count": 34,
   "metadata": {},
   "outputs": [],
   "source": [
    "import pandas as pd\n",
    "import numpy as np\n",
    "\n",
    "from zipfile import ZipFile\n",
    "import data_cleaning\n",
    "\n",
    "from sklearn.model_selection import train_test_split, StratifiedKFold\n",
    "from sklearn.linear_model import LogisticRegression\n",
    "from sklearn.preprocessing import StandardScaler\n",
    "from sklearn.metrics import log_loss, accuracy_score"
   ]
  },
  {
   "cell_type": "markdown",
   "metadata": {},
   "source": [
    "## Import Data"
   ]
  },
  {
   "cell_type": "code",
   "execution_count": 2,
   "metadata": {},
   "outputs": [
    {
     "data": {
      "text/html": [
       "<div>\n",
       "<style scoped>\n",
       "    .dataframe tbody tr th:only-of-type {\n",
       "        vertical-align: middle;\n",
       "    }\n",
       "\n",
       "    .dataframe tbody tr th {\n",
       "        vertical-align: top;\n",
       "    }\n",
       "\n",
       "    .dataframe thead th {\n",
       "        text-align: right;\n",
       "    }\n",
       "</style>\n",
       "<table border=\"1\" class=\"dataframe\">\n",
       "  <thead>\n",
       "    <tr style=\"text-align: right;\">\n",
       "      <th></th>\n",
       "      <th>id</th>\n",
       "      <th>category</th>\n",
       "      <th>title</th>\n",
       "      <th>description</th>\n",
       "      <th>amenities</th>\n",
       "      <th>location</th>\n",
       "      <th>guests</th>\n",
       "      <th>beds</th>\n",
       "      <th>bathrooms</th>\n",
       "      <th>price_night</th>\n",
       "      <th>cleanliness_rate</th>\n",
       "      <th>accuracy_rate</th>\n",
       "      <th>communication_rate</th>\n",
       "      <th>location_rate</th>\n",
       "      <th>check-in_rate</th>\n",
       "      <th>value_rate</th>\n",
       "      <th>amenities_count</th>\n",
       "      <th>url</th>\n",
       "      <th>bedrooms</th>\n",
       "    </tr>\n",
       "  </thead>\n",
       "  <tbody>\n",
       "    <tr>\n",
       "      <th>0</th>\n",
       "      <td>f9dcbd09-32ac-41d9-a0b1-fdb2793378cf</td>\n",
       "      <td>Treehouses</td>\n",
       "      <td>Red Kite Tree Tent - Ynys Affalon</td>\n",
       "      <td>Escape to one of these two fabulous Tree Tents...</td>\n",
       "      <td>['What this place offers', 'Bathroom', 'Shampo...</td>\n",
       "      <td>Llandrindod Wells United Kingdom</td>\n",
       "      <td>2.0</td>\n",
       "      <td>1.0</td>\n",
       "      <td>1.0</td>\n",
       "      <td>105.0</td>\n",
       "      <td>4.6</td>\n",
       "      <td>4.7</td>\n",
       "      <td>4.3</td>\n",
       "      <td>5.0</td>\n",
       "      <td>4.3</td>\n",
       "      <td>4.3</td>\n",
       "      <td>13.0</td>\n",
       "      <td>https://www.airbnb.co.uk/rooms/26620994?adults...</td>\n",
       "      <td>1.0</td>\n",
       "    </tr>\n",
       "    <tr>\n",
       "      <th>1</th>\n",
       "      <td>1b4736a7-e73e-45bc-a9b5-d3e7fcf652fd</td>\n",
       "      <td>Treehouses</td>\n",
       "      <td>Az Alom Cabin - Treehouse Tree to Nature Cabin</td>\n",
       "      <td>Come and spend a romantic stay with a couple o...</td>\n",
       "      <td>['What this place offers', 'Bedroom and laundr...</td>\n",
       "      <td>Guyonvelle Grand Est France</td>\n",
       "      <td>3.0</td>\n",
       "      <td>3.0</td>\n",
       "      <td>0.0</td>\n",
       "      <td>92.0</td>\n",
       "      <td>4.3</td>\n",
       "      <td>4.7</td>\n",
       "      <td>4.6</td>\n",
       "      <td>4.9</td>\n",
       "      <td>4.7</td>\n",
       "      <td>4.5</td>\n",
       "      <td>8.0</td>\n",
       "      <td>https://www.airbnb.co.uk/rooms/27055498?adults...</td>\n",
       "      <td>1.0</td>\n",
       "    </tr>\n",
       "    <tr>\n",
       "      <th>2</th>\n",
       "      <td>d577bc30-2222-4bef-a35e-a9825642aec4</td>\n",
       "      <td>Treehouses</td>\n",
       "      <td>Cabane Entre Les Pins\\n🌲🏕️🌲</td>\n",
       "      <td>Rustic cabin between the pines, 3 meters high ...</td>\n",
       "      <td>['What this place offers', 'Scenic views', 'Ga...</td>\n",
       "      <td>Duclair Normandie France</td>\n",
       "      <td>4.0</td>\n",
       "      <td>2.0</td>\n",
       "      <td>1.5</td>\n",
       "      <td>52.0</td>\n",
       "      <td>4.2</td>\n",
       "      <td>4.6</td>\n",
       "      <td>4.8</td>\n",
       "      <td>4.8</td>\n",
       "      <td>4.8</td>\n",
       "      <td>4.7</td>\n",
       "      <td>51.0</td>\n",
       "      <td>https://www.airbnb.co.uk/rooms/51427108?adults...</td>\n",
       "      <td>1.0</td>\n",
       "    </tr>\n",
       "    <tr>\n",
       "      <th>3</th>\n",
       "      <td>ca9cbfd4-7798-4e8d-8c17-d5a64fba0abc</td>\n",
       "      <td>Treehouses</td>\n",
       "      <td>Tree Top Cabin with log burner &amp; private hot tub</td>\n",
       "      <td>The Tree top cabin is situated in our peaceful...</td>\n",
       "      <td>['What this place offers', 'Bathroom', 'Hot wa...</td>\n",
       "      <td>Barmouth Wales United Kingdom</td>\n",
       "      <td>2.0</td>\n",
       "      <td>1.0</td>\n",
       "      <td>1.0</td>\n",
       "      <td>132.0</td>\n",
       "      <td>4.8</td>\n",
       "      <td>4.9</td>\n",
       "      <td>4.9</td>\n",
       "      <td>4.9</td>\n",
       "      <td>5.0</td>\n",
       "      <td>4.6</td>\n",
       "      <td>23.0</td>\n",
       "      <td>https://www.airbnb.co.uk/rooms/49543851?adults...</td>\n",
       "      <td>1.0</td>\n",
       "    </tr>\n",
       "    <tr>\n",
       "      <th>5</th>\n",
       "      <td>cfe479b9-c8f8-44af-9bc6-46ede9f14bb5</td>\n",
       "      <td>Treehouses</td>\n",
       "      <td>Treehouse near Paris Disney</td>\n",
       "      <td>Charming cabin nestled in the leaves, real unu...</td>\n",
       "      <td>['What this place offers', 'Bathroom', 'Hair d...</td>\n",
       "      <td>Le Plessis-Feu-Aussoux Île-de-France France</td>\n",
       "      <td>4.0</td>\n",
       "      <td>3.0</td>\n",
       "      <td>1.0</td>\n",
       "      <td>143.0</td>\n",
       "      <td>5.0</td>\n",
       "      <td>4.9</td>\n",
       "      <td>5.0</td>\n",
       "      <td>4.7</td>\n",
       "      <td>5.0</td>\n",
       "      <td>4.7</td>\n",
       "      <td>32.0</td>\n",
       "      <td>https://www.airbnb.co.uk/rooms/935398?adults=1...</td>\n",
       "      <td>2.0</td>\n",
       "    </tr>\n",
       "  </tbody>\n",
       "</table>\n",
       "</div>"
      ],
      "text/plain": [
       "                                     id    category  \\\n",
       "0  f9dcbd09-32ac-41d9-a0b1-fdb2793378cf  Treehouses   \n",
       "1  1b4736a7-e73e-45bc-a9b5-d3e7fcf652fd  Treehouses   \n",
       "2  d577bc30-2222-4bef-a35e-a9825642aec4  Treehouses   \n",
       "3  ca9cbfd4-7798-4e8d-8c17-d5a64fba0abc  Treehouses   \n",
       "5  cfe479b9-c8f8-44af-9bc6-46ede9f14bb5  Treehouses   \n",
       "\n",
       "                                              title  \\\n",
       "0                 Red Kite Tree Tent - Ynys Affalon   \n",
       "1    Az Alom Cabin - Treehouse Tree to Nature Cabin   \n",
       "2                       Cabane Entre Les Pins\\n🌲🏕️🌲   \n",
       "3  Tree Top Cabin with log burner & private hot tub   \n",
       "5                       Treehouse near Paris Disney   \n",
       "\n",
       "                                         description  \\\n",
       "0  Escape to one of these two fabulous Tree Tents...   \n",
       "1  Come and spend a romantic stay with a couple o...   \n",
       "2  Rustic cabin between the pines, 3 meters high ...   \n",
       "3  The Tree top cabin is situated in our peaceful...   \n",
       "5  Charming cabin nestled in the leaves, real unu...   \n",
       "\n",
       "                                           amenities  \\\n",
       "0  ['What this place offers', 'Bathroom', 'Shampo...   \n",
       "1  ['What this place offers', 'Bedroom and laundr...   \n",
       "2  ['What this place offers', 'Scenic views', 'Ga...   \n",
       "3  ['What this place offers', 'Bathroom', 'Hot wa...   \n",
       "5  ['What this place offers', 'Bathroom', 'Hair d...   \n",
       "\n",
       "                                      location  guests  beds  bathrooms  \\\n",
       "0             Llandrindod Wells United Kingdom     2.0   1.0        1.0   \n",
       "1                  Guyonvelle Grand Est France     3.0   3.0        0.0   \n",
       "2                     Duclair Normandie France     4.0   2.0        1.5   \n",
       "3                Barmouth Wales United Kingdom     2.0   1.0        1.0   \n",
       "5  Le Plessis-Feu-Aussoux Île-de-France France     4.0   3.0        1.0   \n",
       "\n",
       "   price_night  cleanliness_rate  accuracy_rate  communication_rate  \\\n",
       "0        105.0               4.6            4.7                 4.3   \n",
       "1         92.0               4.3            4.7                 4.6   \n",
       "2         52.0               4.2            4.6                 4.8   \n",
       "3        132.0               4.8            4.9                 4.9   \n",
       "5        143.0               5.0            4.9                 5.0   \n",
       "\n",
       "   location_rate  check-in_rate  value_rate  amenities_count  \\\n",
       "0            5.0            4.3         4.3             13.0   \n",
       "1            4.9            4.7         4.5              8.0   \n",
       "2            4.8            4.8         4.7             51.0   \n",
       "3            4.9            5.0         4.6             23.0   \n",
       "5            4.7            5.0         4.7             32.0   \n",
       "\n",
       "                                                 url  bedrooms  \n",
       "0  https://www.airbnb.co.uk/rooms/26620994?adults...       1.0  \n",
       "1  https://www.airbnb.co.uk/rooms/27055498?adults...       1.0  \n",
       "2  https://www.airbnb.co.uk/rooms/51427108?adults...       1.0  \n",
       "3  https://www.airbnb.co.uk/rooms/49543851?adults...       1.0  \n",
       "5  https://www.airbnb.co.uk/rooms/935398?adults=1...       2.0  "
      ]
     },
     "execution_count": 2,
     "metadata": {},
     "output_type": "execute_result"
    }
   ],
   "source": [
    "with ZipFile('./airbnb-property-listings.zip') as myzip:\n",
    "    data = myzip.open(\"AirbnbDataSci/tabular_data/AirBnbData.csv\")\n",
    "\n",
    "data_df = pd.read_csv(data)\n",
    "cleaned_data_df = data_df.pipe(data_cleaning.clean_tabular_data)\n",
    "cleaned_data_df.head()"
   ]
  },
  {
   "cell_type": "code",
   "execution_count": 3,
   "metadata": {},
   "outputs": [
    {
     "data": {
      "text/plain": [
       "0"
      ]
     },
     "execution_count": 3,
     "metadata": {},
     "output_type": "execute_result"
    }
   ],
   "source": [
    "cleaned_data_df.isna().sum().sum()"
   ]
  },
  {
   "cell_type": "markdown",
   "metadata": {},
   "source": [
    "## Baseline Model\n",
    "Model to predict the category column from the numerical data only"
   ]
  },
  {
   "cell_type": "code",
   "execution_count": 6,
   "metadata": {},
   "outputs": [
    {
     "data": {
      "text/plain": [
       "CategoricalDtype(categories=['Amazing pools', 'Beachfront', 'Chalets', 'Offbeat',\n",
       "                  'Treehouses'],\n",
       ", ordered=False)"
      ]
     },
     "execution_count": 6,
     "metadata": {},
     "output_type": "execute_result"
    }
   ],
   "source": [
    "# Split the data into data X and label y\n",
    "X = cleaned_data_df.select_dtypes('number')\n",
    "y = cleaned_data_df.category\n",
    "y.dtype"
   ]
  },
  {
   "cell_type": "code",
   "execution_count": 10,
   "metadata": {},
   "outputs": [],
   "source": [
    "# Split the data into train/test making sure to stratify the split so the test data is representative\n",
    "X_train, X_test, y_train, y_test = train_test_split(X, y, test_size=0.2, random_state=42, stratify=y)"
   ]
  },
  {
   "cell_type": "code",
   "execution_count": 17,
   "metadata": {},
   "outputs": [
    {
     "data": {
      "image/png": "[encoded data removed]",
      "text/plain": [
       "<Figure size 640x480 with 1 Axes>"
      ]
     },
     "metadata": {},
     "output_type": "display_data"
    }
   ],
   "source": [
    "# Plot the proportions of each class label in the train/test data\n",
    "samples_train_test_df = pd.DataFrame({'train': y_train.value_counts()/y_train.count(), 'test': y_test.value_counts()/y_test.count()})\n",
    "samples_train_test_df.plot.barh(grid=True, title='Proportion of each class label in train/test sets');"
   ]
  },
  {
   "cell_type": "code",
   "execution_count": 36,
   "metadata": {},
   "outputs": [
    {
     "name": "stdout",
     "output_type": "stream",
     "text": [
      "Mean training loss:\t1.5365\n",
      "Mean validation loss:\t1.6122\n",
      "\n",
      "Mean training accuracy:\t\t 0.2948\n",
      "Mean validation accuracy:\t 0.2501\n"
     ]
    }
   ],
   "source": [
    "# get a baseline score with logistic regression\n",
    "train_scores = np.zeros(5,)\n",
    "valid_scores = np.zeros(5,)\n",
    "train_accuracy = np.zeros(5,)\n",
    "valid_accuracy = np.zeros(5,)\n",
    "\n",
    "skf = StratifiedKFold()\n",
    "for fold_i, (train_idx, valid_idx) in enumerate(skf.split(X_train, y_train)):\n",
    "    train_data = X_train.values[train_idx]\n",
    "    valid_data = X_train.values[valid_idx]\n",
    "    train_label = y_train.values[train_idx]\n",
    "    valid_label = y_train.values[valid_idx]\n",
    "\n",
    "    std_scl = StandardScaler()\n",
    "    train_data_scaled = std_scl.fit_transform(train_data)\n",
    "    valid_data_scaled = std_scl.transform(valid_data)\n",
    "\n",
    "    clf_mdl = LogisticRegression(max_iter=100 ,random_state=42, solver='liblinear')\n",
    "    clf_mdl.fit(train_data, train_label)\n",
    "\n",
    "    y_train_pred_prob = clf_mdl.predict_proba(train_data_scaled)\n",
    "    y_valid_pred_prob = clf_mdl.predict_proba(valid_data_scaled)\n",
    "\n",
    "    y_train_pred = clf_mdl.predict(train_data_scaled)\n",
    "    y_valid_pred = clf_mdl.predict(valid_data_scaled)\n",
    "\n",
    "    train_scores[fold_i] = log_loss(train_label, y_train_pred_prob)\n",
    "    valid_scores[fold_i] = log_loss(valid_label, y_valid_pred_prob)\n",
    "\n",
    "    train_accuracy[fold_i] = accuracy_score(train_label, y_train_pred)\n",
    "    valid_accuracy[fold_i] = accuracy_score(valid_label, y_valid_pred)\n",
    "\n",
    "print(f'Mean training loss:\\t{np.mean(train_scores):.4f}')\n",
    "print(f'Mean validation loss:\\t{np.mean(valid_scores):.4f}\\n')\n",
    "print(f'Mean training accuracy:\\t\\t {np.mean(train_accuracy):.4f}')\n",
    "print(f'Mean validation accuracy:\\t {np.mean(valid_accuracy):.4f}')"
   ]
  },
  {
   "cell_type": "code",
   "execution_count": 61,
   "metadata": {},
   "outputs": [
    {
     "name": "stdout",
     "output_type": "stream",
     "text": [
      "Log Loss of the raw distribution of the training data: 1.5989\n"
     ]
    }
   ],
   "source": [
    "train_data_class_ratio = y_train.value_counts().sort_index().div(y_train.count()).values\n",
    "# np.tile(train_data_class_ratio, (10,1)).shape\n",
    "# y_train.values.shape, np.tile(train_data_class_ratio, len(y_train)).shape\n",
    "log_loss_random = log_loss(y_train.values, np.tile(train_data_class_ratio, (len(y_train),1) ))\n",
    "print(f'Log Loss of the raw distribution of the training data: {log_loss_random:.4f}')"
   ]
  },
  {
   "cell_type": "markdown",
   "metadata": {},
   "source": [
    "Ok, so not a great start as so far have got a model that performs worse than random."
   ]
  }
 ],
 "metadata": {
  "kernelspec": {
   "display_name": "Python 3.10.6 ('airbnb_predictor')",
   "language": "python",
   "name": "python3"
  },
  "language_info": {
   "codemirror_mode": {
    "name": "ipython",
    "version": 3
   },
   "file_extension": ".py",
   "mimetype": "text/x-python",
   "name": "python",
   "nbconvert_exporter": "python",
   "pygments_lexer": "ipython3",
   "version": "3.10.6"
  },
  "orig_nbformat": 4,
  "vscode": {
   "interpreter": {
    "hash": "084a6f1b79bbfc33ad562b2a1419f648bdd82ad13757ce6aeb550748c7393e20"
   }
  }
 },
 "nbformat": 4,
 "nbformat_minor": 2
}
