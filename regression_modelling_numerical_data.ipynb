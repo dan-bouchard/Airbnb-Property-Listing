{
 "cells": [
  {
   "cell_type": "markdown",
   "metadata": {},
   "source": [
    "# Airbnb Property Listing - Regression Modelling with Numerical Data\n",
    "\n",
    "## Library Imports"
   ]
  },
  {
   "cell_type": "code",
   "execution_count": 88,
   "metadata": {},
   "outputs": [],
   "source": [
    "import pandas as pd\n",
    "import numpy as np\n",
    "from zipfile import ZipFile\n",
    "import data_cleaning\n",
    "\n",
    "from sklearn.model_selection import train_test_split, KFold, ParameterGrid\n",
    "from sklearn.linear_model import LinearRegression, SGDRegressor, Ridge, RidgeCV\n",
    "from sklearn.metrics import mean_squared_error\n",
    "from sklearn.preprocessing import StandardScaler, MinMaxScaler"
   ]
  },
  {
   "cell_type": "markdown",
   "metadata": {},
   "source": [
    "## Import Data"
   ]
  },
  {
   "cell_type": "code",
   "execution_count": 2,
   "metadata": {},
   "outputs": [
    {
     "data": {
      "text/html": [
       "<div>\n",
       "<style scoped>\n",
       "    .dataframe tbody tr th:only-of-type {\n",
       "        vertical-align: middle;\n",
       "    }\n",
       "\n",
       "    .dataframe tbody tr th {\n",
       "        vertical-align: top;\n",
       "    }\n",
       "\n",
       "    .dataframe thead th {\n",
       "        text-align: right;\n",
       "    }\n",
       "</style>\n",
       "<table border=\"1\" class=\"dataframe\">\n",
       "  <thead>\n",
       "    <tr style=\"text-align: right;\">\n",
       "      <th></th>\n",
       "      <th>id</th>\n",
       "      <th>category</th>\n",
       "      <th>title</th>\n",
       "      <th>description</th>\n",
       "      <th>amenities</th>\n",
       "      <th>location</th>\n",
       "      <th>guests</th>\n",
       "      <th>beds</th>\n",
       "      <th>bathrooms</th>\n",
       "      <th>price_night</th>\n",
       "      <th>cleanliness_rate</th>\n",
       "      <th>accuracy_rate</th>\n",
       "      <th>communication_rate</th>\n",
       "      <th>location_rate</th>\n",
       "      <th>check-in_rate</th>\n",
       "      <th>value_rate</th>\n",
       "      <th>amenities_count</th>\n",
       "      <th>url</th>\n",
       "      <th>bedrooms</th>\n",
       "    </tr>\n",
       "  </thead>\n",
       "  <tbody>\n",
       "    <tr>\n",
       "      <th>0</th>\n",
       "      <td>f9dcbd09-32ac-41d9-a0b1-fdb2793378cf</td>\n",
       "      <td>Treehouses</td>\n",
       "      <td>Red Kite Tree Tent - Ynys Affalon</td>\n",
       "      <td>Escape to one of these two fabulous Tree Tents...</td>\n",
       "      <td>['What this place offers', 'Bathroom', 'Shampo...</td>\n",
       "      <td>Llandrindod Wells United Kingdom</td>\n",
       "      <td>2.0</td>\n",
       "      <td>1.0</td>\n",
       "      <td>1.0</td>\n",
       "      <td>105.0</td>\n",
       "      <td>4.6</td>\n",
       "      <td>4.7</td>\n",
       "      <td>4.3</td>\n",
       "      <td>5.0</td>\n",
       "      <td>4.3</td>\n",
       "      <td>4.3</td>\n",
       "      <td>13.0</td>\n",
       "      <td>https://www.airbnb.co.uk/rooms/26620994?adults...</td>\n",
       "      <td>1.0</td>\n",
       "    </tr>\n",
       "    <tr>\n",
       "      <th>1</th>\n",
       "      <td>1b4736a7-e73e-45bc-a9b5-d3e7fcf652fd</td>\n",
       "      <td>Treehouses</td>\n",
       "      <td>Az Alom Cabin - Treehouse Tree to Nature Cabin</td>\n",
       "      <td>Come and spend a romantic stay with a couple o...</td>\n",
       "      <td>['What this place offers', 'Bedroom and laundr...</td>\n",
       "      <td>Guyonvelle Grand Est France</td>\n",
       "      <td>3.0</td>\n",
       "      <td>3.0</td>\n",
       "      <td>0.0</td>\n",
       "      <td>92.0</td>\n",
       "      <td>4.3</td>\n",
       "      <td>4.7</td>\n",
       "      <td>4.6</td>\n",
       "      <td>4.9</td>\n",
       "      <td>4.7</td>\n",
       "      <td>4.5</td>\n",
       "      <td>8.0</td>\n",
       "      <td>https://www.airbnb.co.uk/rooms/27055498?adults...</td>\n",
       "      <td>1.0</td>\n",
       "    </tr>\n",
       "    <tr>\n",
       "      <th>2</th>\n",
       "      <td>d577bc30-2222-4bef-a35e-a9825642aec4</td>\n",
       "      <td>Treehouses</td>\n",
       "      <td>Cabane Entre Les Pins\\n🌲🏕️🌲</td>\n",
       "      <td>Rustic cabin between the pines, 3 meters high ...</td>\n",
       "      <td>['What this place offers', 'Scenic views', 'Ga...</td>\n",
       "      <td>Duclair Normandie France</td>\n",
       "      <td>4.0</td>\n",
       "      <td>2.0</td>\n",
       "      <td>1.5</td>\n",
       "      <td>52.0</td>\n",
       "      <td>4.2</td>\n",
       "      <td>4.6</td>\n",
       "      <td>4.8</td>\n",
       "      <td>4.8</td>\n",
       "      <td>4.8</td>\n",
       "      <td>4.7</td>\n",
       "      <td>51.0</td>\n",
       "      <td>https://www.airbnb.co.uk/rooms/51427108?adults...</td>\n",
       "      <td>1.0</td>\n",
       "    </tr>\n",
       "    <tr>\n",
       "      <th>3</th>\n",
       "      <td>ca9cbfd4-7798-4e8d-8c17-d5a64fba0abc</td>\n",
       "      <td>Treehouses</td>\n",
       "      <td>Tree Top Cabin with log burner &amp; private hot tub</td>\n",
       "      <td>The Tree top cabin is situated in our peaceful...</td>\n",
       "      <td>['What this place offers', 'Bathroom', 'Hot wa...</td>\n",
       "      <td>Barmouth Wales United Kingdom</td>\n",
       "      <td>2.0</td>\n",
       "      <td>1.0</td>\n",
       "      <td>1.0</td>\n",
       "      <td>132.0</td>\n",
       "      <td>4.8</td>\n",
       "      <td>4.9</td>\n",
       "      <td>4.9</td>\n",
       "      <td>4.9</td>\n",
       "      <td>5.0</td>\n",
       "      <td>4.6</td>\n",
       "      <td>23.0</td>\n",
       "      <td>https://www.airbnb.co.uk/rooms/49543851?adults...</td>\n",
       "      <td>1.0</td>\n",
       "    </tr>\n",
       "    <tr>\n",
       "      <th>5</th>\n",
       "      <td>cfe479b9-c8f8-44af-9bc6-46ede9f14bb5</td>\n",
       "      <td>Treehouses</td>\n",
       "      <td>Treehouse near Paris Disney</td>\n",
       "      <td>Charming cabin nestled in the leaves, real unu...</td>\n",
       "      <td>['What this place offers', 'Bathroom', 'Hair d...</td>\n",
       "      <td>Le Plessis-Feu-Aussoux Île-de-France France</td>\n",
       "      <td>4.0</td>\n",
       "      <td>3.0</td>\n",
       "      <td>1.0</td>\n",
       "      <td>143.0</td>\n",
       "      <td>5.0</td>\n",
       "      <td>4.9</td>\n",
       "      <td>5.0</td>\n",
       "      <td>4.7</td>\n",
       "      <td>5.0</td>\n",
       "      <td>4.7</td>\n",
       "      <td>32.0</td>\n",
       "      <td>https://www.airbnb.co.uk/rooms/935398?adults=1...</td>\n",
       "      <td>2.0</td>\n",
       "    </tr>\n",
       "  </tbody>\n",
       "</table>\n",
       "</div>"
      ],
      "text/plain": [
       "                                     id    category  \\\n",
       "0  f9dcbd09-32ac-41d9-a0b1-fdb2793378cf  Treehouses   \n",
       "1  1b4736a7-e73e-45bc-a9b5-d3e7fcf652fd  Treehouses   \n",
       "2  d577bc30-2222-4bef-a35e-a9825642aec4  Treehouses   \n",
       "3  ca9cbfd4-7798-4e8d-8c17-d5a64fba0abc  Treehouses   \n",
       "5  cfe479b9-c8f8-44af-9bc6-46ede9f14bb5  Treehouses   \n",
       "\n",
       "                                              title  \\\n",
       "0                 Red Kite Tree Tent - Ynys Affalon   \n",
       "1    Az Alom Cabin - Treehouse Tree to Nature Cabin   \n",
       "2                       Cabane Entre Les Pins\\n🌲🏕️🌲   \n",
       "3  Tree Top Cabin with log burner & private hot tub   \n",
       "5                       Treehouse near Paris Disney   \n",
       "\n",
       "                                         description  \\\n",
       "0  Escape to one of these two fabulous Tree Tents...   \n",
       "1  Come and spend a romantic stay with a couple o...   \n",
       "2  Rustic cabin between the pines, 3 meters high ...   \n",
       "3  The Tree top cabin is situated in our peaceful...   \n",
       "5  Charming cabin nestled in the leaves, real unu...   \n",
       "\n",
       "                                           amenities  \\\n",
       "0  ['What this place offers', 'Bathroom', 'Shampo...   \n",
       "1  ['What this place offers', 'Bedroom and laundr...   \n",
       "2  ['What this place offers', 'Scenic views', 'Ga...   \n",
       "3  ['What this place offers', 'Bathroom', 'Hot wa...   \n",
       "5  ['What this place offers', 'Bathroom', 'Hair d...   \n",
       "\n",
       "                                      location  guests  beds  bathrooms  \\\n",
       "0             Llandrindod Wells United Kingdom     2.0   1.0        1.0   \n",
       "1                  Guyonvelle Grand Est France     3.0   3.0        0.0   \n",
       "2                     Duclair Normandie France     4.0   2.0        1.5   \n",
       "3                Barmouth Wales United Kingdom     2.0   1.0        1.0   \n",
       "5  Le Plessis-Feu-Aussoux Île-de-France France     4.0   3.0        1.0   \n",
       "\n",
       "   price_night  cleanliness_rate  accuracy_rate  communication_rate  \\\n",
       "0        105.0               4.6            4.7                 4.3   \n",
       "1         92.0               4.3            4.7                 4.6   \n",
       "2         52.0               4.2            4.6                 4.8   \n",
       "3        132.0               4.8            4.9                 4.9   \n",
       "5        143.0               5.0            4.9                 5.0   \n",
       "\n",
       "   location_rate  check-in_rate  value_rate  amenities_count  \\\n",
       "0            5.0            4.3         4.3             13.0   \n",
       "1            4.9            4.7         4.5              8.0   \n",
       "2            4.8            4.8         4.7             51.0   \n",
       "3            4.9            5.0         4.6             23.0   \n",
       "5            4.7            5.0         4.7             32.0   \n",
       "\n",
       "                                                 url  bedrooms  \n",
       "0  https://www.airbnb.co.uk/rooms/26620994?adults...       1.0  \n",
       "1  https://www.airbnb.co.uk/rooms/27055498?adults...       1.0  \n",
       "2  https://www.airbnb.co.uk/rooms/51427108?adults...       1.0  \n",
       "3  https://www.airbnb.co.uk/rooms/49543851?adults...       1.0  \n",
       "5  https://www.airbnb.co.uk/rooms/935398?adults=1...       2.0  "
      ]
     },
     "execution_count": 2,
     "metadata": {},
     "output_type": "execute_result"
    }
   ],
   "source": [
    "with ZipFile('./airbnb-property-listings.zip') as myzip:\n",
    "    data = myzip.open(\"AirbnbDataSci/tabular_data/AirBnbData.csv\")\n",
    "\n",
    "data_df = pd.read_csv(data)\n",
    "cleaned_data_df = data_df.pipe(data_cleaning.clean_tabular_data)\n",
    "cleaned_data_df.head()"
   ]
  },
  {
   "cell_type": "code",
   "execution_count": 3,
   "metadata": {},
   "outputs": [
    {
     "data": {
      "text/plain": [
       "0"
      ]
     },
     "execution_count": 3,
     "metadata": {},
     "output_type": "execute_result"
    }
   ],
   "source": [
    "cleaned_data_df.isna().sum().sum()"
   ]
  },
  {
   "cell_type": "markdown",
   "metadata": {},
   "source": [
    "## Baseline Model"
   ]
  },
  {
   "cell_type": "code",
   "execution_count": 4,
   "metadata": {},
   "outputs": [],
   "source": [
    "X = cleaned_data_df.select_dtypes('number').drop(columns = 'price_night')\n",
    "y = cleaned_data_df.price_night"
   ]
  },
  {
   "cell_type": "code",
   "execution_count": 5,
   "metadata": {},
   "outputs": [],
   "source": [
    "X_train, X_test, y_train, y_test = train_test_split(X, y, test_size=0.2, random_state=42)"
   ]
  },
  {
   "cell_type": "markdown",
   "metadata": {},
   "source": [
    "### Linear Regression with No Scaling"
   ]
  },
  {
   "cell_type": "code",
   "execution_count": 17,
   "metadata": {},
   "outputs": [
    {
     "data": {
      "text/plain": [
       "115.6361992867389"
      ]
     },
     "execution_count": 17,
     "metadata": {},
     "output_type": "execute_result"
    }
   ],
   "source": [
    "X_train_train, X_valid, y_train_train, y_valid = train_test_split(X_train, y_train, test_size=0.2, random_state=42)\n",
    "linear_regression = LinearRegression()\n",
    "linear_regression.fit(X_train_train, y_train_train)\n",
    "linear_regression_rms = np.sqrt(mean_squared_error(y_valid, linear_regression.predict(X_valid)))\n",
    "linear_regression_rms"
   ]
  },
  {
   "cell_type": "markdown",
   "metadata": {},
   "source": [
    "### Linear Regression with Standard Scaler"
   ]
  },
  {
   "cell_type": "code",
   "execution_count": 18,
   "metadata": {},
   "outputs": [
    {
     "data": {
      "text/plain": [
       "115.63619928673882"
      ]
     },
     "execution_count": 18,
     "metadata": {},
     "output_type": "execute_result"
    }
   ],
   "source": [
    "std_scaler = StandardScaler()\n",
    "X_train_train_std_scale = std_scaler.fit_transform(X_train_train)\n",
    "linear_regression_std_scale = LinearRegression()\n",
    "linear_regression_std_scale.fit(X_train_train_std_scale, y_train_train)\n",
    "linear_regression_std_scale_rms = np.sqrt(mean_squared_error(y_valid, linear_regression_std_scale.predict(std_scaler.transform(X_valid))))\n",
    "linear_regression_std_scale_rms"
   ]
  },
  {
   "cell_type": "markdown",
   "metadata": {},
   "source": [
    "### Linear Regression with Min-Max Scaler"
   ]
  },
  {
   "cell_type": "code",
   "execution_count": 19,
   "metadata": {},
   "outputs": [
    {
     "data": {
      "text/plain": [
       "115.63619928673882"
      ]
     },
     "execution_count": 19,
     "metadata": {},
     "output_type": "execute_result"
    }
   ],
   "source": [
    "min_max_scaler = MinMaxScaler()\n",
    "X_train_train_min_max_scale = min_max_scaler.fit_transform(X_train_train)\n",
    "linear_regression_min_max_scale = LinearRegression()\n",
    "linear_regression_min_max_scale.fit(X_train_train_min_max_scale, y_train_train)\n",
    "linear_regression_min_max_scale_rms = np.sqrt(mean_squared_error(y_valid, linear_regression_min_max_scale.predict(min_max_scaler.transform(X_valid))))\n",
    "linear_regression_min_max_scale_rms"
   ]
  },
  {
   "cell_type": "markdown",
   "metadata": {},
   "source": [
    "### SGD Regressor with No Scaling"
   ]
  },
  {
   "cell_type": "code",
   "execution_count": 24,
   "metadata": {},
   "outputs": [
    {
     "data": {
      "text/plain": [
       "1413403707.939048"
      ]
     },
     "execution_count": 24,
     "metadata": {},
     "output_type": "execute_result"
    }
   ],
   "source": [
    "sgd_regression = SGDRegressor(random_state=42)\n",
    "sgd_regression.fit(X_train_train, y_train_train)\n",
    "sgd_regression_rms = np.sqrt(mean_squared_error(y_valid, sgd_regression.predict(X_valid)))\n",
    "sgd_regression_rms"
   ]
  },
  {
   "cell_type": "markdown",
   "metadata": {},
   "source": [
    "### SGD Regressor with Standard Scaler"
   ]
  },
  {
   "cell_type": "code",
   "execution_count": 25,
   "metadata": {},
   "outputs": [
    {
     "data": {
      "text/plain": [
       "115.37958520095476"
      ]
     },
     "execution_count": 25,
     "metadata": {},
     "output_type": "execute_result"
    }
   ],
   "source": [
    "std_scaler = StandardScaler()\n",
    "X_train_train_std_scale = std_scaler.fit_transform(X_train_train)\n",
    "sgd_regression_std_scale = SGDRegressor(random_state=42)\n",
    "sgd_regression_std_scale.fit(X_train_train_std_scale, y_train_train)\n",
    "sgd_regression_std_scale_rms = np.sqrt(mean_squared_error(y_valid, sgd_regression_std_scale.predict(std_scaler.transform(X_valid))))\n",
    "sgd_regression_std_scale_rms"
   ]
  },
  {
   "cell_type": "markdown",
   "metadata": {},
   "source": [
    "### SGD Regressor with Min-Max Scaler"
   ]
  },
  {
   "cell_type": "code",
   "execution_count": 26,
   "metadata": {},
   "outputs": [
    {
     "data": {
      "text/plain": [
       "124.49525937013341"
      ]
     },
     "execution_count": 26,
     "metadata": {},
     "output_type": "execute_result"
    }
   ],
   "source": [
    "min_max_scaler = MinMaxScaler()\n",
    "X_train_train_min_max_scale = min_max_scaler.fit_transform(X_train_train)\n",
    "sgd_regression_min_max_scale = SGDRegressor(random_state=42)\n",
    "sgd_regression_min_max_scale.fit(X_train_train_min_max_scale, y_train_train)\n",
    "sgd_regression_min_max_scale_rms = np.sqrt(mean_squared_error(y_valid, sgd_regression_min_max_scale.predict(min_max_scaler.transform(X_valid))))\n",
    "sgd_regression_min_max_scale_rms"
   ]
  },
  {
   "cell_type": "markdown",
   "metadata": {},
   "source": [
    "So the best baseline RMS is with SGD Regressor and Standard Scaler and a score of 115.38."
   ]
  },
  {
   "cell_type": "code",
   "execution_count": 29,
   "metadata": {},
   "outputs": [
    {
     "data": {
      "text/plain": [
       "94.30694156849837"
      ]
     },
     "execution_count": 29,
     "metadata": {},
     "output_type": "execute_result"
    }
   ],
   "source": [
    "sgd_regression_std_scale_train_mse = np.sqrt(mean_squared_error(y_train_train, sgd_regression_std_scale.predict(std_scaler.fit_transform(X_train_train))))\n",
    "sgd_regression_std_scale_train_mse"
   ]
  },
  {
   "cell_type": "markdown",
   "metadata": {},
   "source": [
    "So the best model so far is over-fitting."
   ]
  },
  {
   "cell_type": "markdown",
   "metadata": {},
   "source": [
    "## Generate a custom hyper-parameter tuning function"
   ]
  },
  {
   "cell_type": "code",
   "execution_count": 82,
   "metadata": {},
   "outputs": [],
   "source": [
    "def tune_regression_model_parameters(reg_mdl, X, y, params=None, cv=5):\n",
    "    \n",
    "    \n",
    "    if params is not None:\n",
    "        params_grid = list(ParameterGrid(params))\n",
    "        mean_train_rms = []\n",
    "        mean_valid_rms =[]\n",
    "        for params_i in params_grid:\n",
    "            reg_mdl_instance = reg_mdl(**params_i)\n",
    "\n",
    "            kf = KFold(n_splits=cv)\n",
    "\n",
    "            train_rms = []\n",
    "            valid_rms = []\n",
    "\n",
    "            for train_index, test_index in kf.split(X):\n",
    "                X_train, X_valid = X.iloc[train_index,:], X.iloc[test_index,:]\n",
    "                y_train, y_valid = y.iloc[train_index], y.iloc[test_index]\n",
    "                reg_mdl_instance.fit(X_train, y_train)\n",
    "                train_rms.append(np.sqrt(mean_squared_error(y_train, reg_mdl_instance.predict(X_train))))\n",
    "                valid_rms.append(np.sqrt(mean_squared_error(y_valid, reg_mdl_instance.predict(X_valid))))\n",
    "            \n",
    "            mean_train_rms.append(np.mean(train_rms))\n",
    "            mean_valid_rms.append(np.mean(valid_rms))\n",
    "        \n",
    "        best_valid_i = np.argmin(mean_valid_rms)\n",
    "        best_valid_score = np.min(mean_valid_rms)\n",
    "        best_params = params_grid[best_valid_i]\n",
    "        train_score = mean_train_rms[best_valid_i]\n",
    "        \n",
    "        out = {'best_valid_score': best_valid_score, 'best_params': best_params, 'train_score': train_score,\n",
    "                'mean_train_rms': mean_train_rms, 'mean_valid_rms': mean_valid_rms}\n",
    "        \n",
    "        return out\n",
    "    \n",
    "    else:\n",
    "        reg_mdl_instance = reg_mdl()\n",
    "        kf = KFold(n_splits=cv)\n",
    "\n",
    "        train_rms = []\n",
    "        valid_rms = []\n",
    "\n",
    "        for train_index, test_index in kf.split(X):\n",
    "            X_train, X_valid = X.iloc[train_index,:], X.iloc[test_index,:]\n",
    "            y_train, y_valid = y.iloc[train_index], y.iloc[test_index]\n",
    "            reg_mdl_instance.fit(X_train, y_train)\n",
    "            train_rms.append(np.sqrt(mean_squared_error(y_train, reg_mdl_instance.predict(X_train))))\n",
    "            valid_rms.append(np.sqrt(mean_squared_error(y_valid, reg_mdl_instance.predict(X_valid))))\n",
    "        \n",
    "        train_score = np.mean(train_rms)\n",
    "        valid_score = np.mean(valid_rms)\n",
    "\n",
    "        out = {'train_score': train_score, 'valid_score': valid_score, 'params': reg_mdl_instance.get_params()}\n",
    "        \n",
    "        return out"
   ]
  },
  {
   "cell_type": "code",
   "execution_count": 85,
   "metadata": {},
   "outputs": [],
   "source": [
    "results_tune = tune_regression_model_parameters(Ridge, X_train, y_train, params={'alpha': [0.01, 0.1, 1, 10, 100]})\n",
    "results_default = tune_regression_model_parameters(Ridge, X_train, y_train)"
   ]
  },
  {
   "cell_type": "code",
   "execution_count": 86,
   "metadata": {},
   "outputs": [
    {
     "data": {
      "text/plain": [
       "{'best_valid_score': 100.25919500675414,\n",
       " 'best_params': {'alpha': 0.01},\n",
       " 'train_score': 97.85519055535443,\n",
       " 'mean_train_rms': [97.85519055535443,\n",
       "  97.85967426865321,\n",
       "  98.09682836868338,\n",
       "  100.54386955052546,\n",
       "  104.03603179726142],\n",
       " 'mean_valid_rms': [100.25919500675414,\n",
       "  100.27336296635698,\n",
       "  100.57578853528602,\n",
       "  102.89852359083041,\n",
       "  105.43178768907701]}"
      ]
     },
     "execution_count": 86,
     "metadata": {},
     "output_type": "execute_result"
    }
   ],
   "source": [
    "results_tune"
   ]
  },
  {
   "cell_type": "code",
   "execution_count": 87,
   "metadata": {},
   "outputs": [
    {
     "data": {
      "text/plain": [
       "{'train_score': 98.09682836868338,\n",
       " 'valid_score': 100.57578853528602,\n",
       " 'params': {'alpha': 1.0,\n",
       "  'copy_X': True,\n",
       "  'fit_intercept': True,\n",
       "  'max_iter': None,\n",
       "  'normalize': 'deprecated',\n",
       "  'positive': False,\n",
       "  'random_state': None,\n",
       "  'solver': 'auto',\n",
       "  'tol': 0.001}}"
      ]
     },
     "execution_count": 87,
     "metadata": {},
     "output_type": "execute_result"
    }
   ],
   "source": [
    "results_default"
   ]
  },
  {
   "cell_type": "markdown",
   "metadata": {},
   "source": []
  },
  {
   "cell_type": "code",
   "execution_count": null,
   "metadata": {},
   "outputs": [],
   "source": []
  }
 ],
 "metadata": {
  "kernelspec": {
   "display_name": "Python 3.10.6 ('airbnb_predictor')",
   "language": "python",
   "name": "python3"
  },
  "language_info": {
   "codemirror_mode": {
    "name": "ipython",
    "version": 3
   },
   "file_extension": ".py",
   "mimetype": "text/x-python",
   "name": "python",
   "nbconvert_exporter": "python",
   "pygments_lexer": "ipython3",
   "version": "3.10.6"
  },
  "orig_nbformat": 4,
  "vscode": {
   "interpreter": {
    "hash": "084a6f1b79bbfc33ad562b2a1419f648bdd82ad13757ce6aeb550748c7393e20"
   }
  }
 },
 "nbformat": 4,
 "nbformat_minor": 2
}
