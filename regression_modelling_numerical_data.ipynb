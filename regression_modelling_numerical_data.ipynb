{
 "cells": [
  {
   "cell_type": "markdown",
   "metadata": {},
   "source": [
    "# Airbnb Property Listing - Regression Modelling with Numerical Data\n",
    "\n",
    "## Library Imports"
   ]
  },
  {
   "cell_type": "code",
   "execution_count": 12,
   "metadata": {},
   "outputs": [],
   "source": [
    "import pandas as pd\n",
    "import numpy as np\n",
    "from zipfile import ZipFile\n",
    "import data_cleaning\n",
    "\n",
    "from sklearn.model_selection import train_test_split\n",
    "from sklearn.linear_model import LinearRegression, SGDRegressor\n",
    "from sklearn.metrics import mean_squared_error\n",
    "from sklearn.preprocessing import StandardScaler, MinMaxScaler"
   ]
  },
  {
   "cell_type": "markdown",
   "metadata": {},
   "source": [
    "## Import Data"
   ]
  },
  {
   "cell_type": "code",
   "execution_count": 2,
   "metadata": {},
   "outputs": [
    {
     "data": {
      "text/html": [
       "<div>\n",
       "<style scoped>\n",
       "    .dataframe tbody tr th:only-of-type {\n",
       "        vertical-align: middle;\n",
       "    }\n",
       "\n",
       "    .dataframe tbody tr th {\n",
       "        vertical-align: top;\n",
       "    }\n",
       "\n",
       "    .dataframe thead th {\n",
       "        text-align: right;\n",
       "    }\n",
       "</style>\n",
       "<table border=\"1\" class=\"dataframe\">\n",
       "  <thead>\n",
       "    <tr style=\"text-align: right;\">\n",
       "      <th></th>\n",
       "      <th>id</th>\n",
       "      <th>category</th>\n",
       "      <th>title</th>\n",
       "      <th>description</th>\n",
       "      <th>amenities</th>\n",
       "      <th>location</th>\n",
       "      <th>guests</th>\n",
       "      <th>beds</th>\n",
       "      <th>bathrooms</th>\n",
       "      <th>price_night</th>\n",
       "      <th>cleanliness_rate</th>\n",
       "      <th>accuracy_rate</th>\n",
       "      <th>communication_rate</th>\n",
       "      <th>location_rate</th>\n",
       "      <th>check-in_rate</th>\n",
       "      <th>value_rate</th>\n",
       "      <th>amenities_count</th>\n",
       "      <th>url</th>\n",
       "      <th>bedrooms</th>\n",
       "    </tr>\n",
       "  </thead>\n",
       "  <tbody>\n",
       "    <tr>\n",
       "      <th>0</th>\n",
       "      <td>f9dcbd09-32ac-41d9-a0b1-fdb2793378cf</td>\n",
       "      <td>Treehouses</td>\n",
       "      <td>Red Kite Tree Tent - Ynys Affalon</td>\n",
       "      <td>Escape to one of these two fabulous Tree Tents...</td>\n",
       "      <td>['What this place offers', 'Bathroom', 'Shampo...</td>\n",
       "      <td>Llandrindod Wells United Kingdom</td>\n",
       "      <td>2.0</td>\n",
       "      <td>1.0</td>\n",
       "      <td>1.0</td>\n",
       "      <td>105.0</td>\n",
       "      <td>4.6</td>\n",
       "      <td>4.7</td>\n",
       "      <td>4.3</td>\n",
       "      <td>5.0</td>\n",
       "      <td>4.3</td>\n",
       "      <td>4.3</td>\n",
       "      <td>13.0</td>\n",
       "      <td>https://www.airbnb.co.uk/rooms/26620994?adults...</td>\n",
       "      <td>1.0</td>\n",
       "    </tr>\n",
       "    <tr>\n",
       "      <th>1</th>\n",
       "      <td>1b4736a7-e73e-45bc-a9b5-d3e7fcf652fd</td>\n",
       "      <td>Treehouses</td>\n",
       "      <td>Az Alom Cabin - Treehouse Tree to Nature Cabin</td>\n",
       "      <td>Come and spend a romantic stay with a couple o...</td>\n",
       "      <td>['What this place offers', 'Bedroom and laundr...</td>\n",
       "      <td>Guyonvelle Grand Est France</td>\n",
       "      <td>3.0</td>\n",
       "      <td>3.0</td>\n",
       "      <td>0.0</td>\n",
       "      <td>92.0</td>\n",
       "      <td>4.3</td>\n",
       "      <td>4.7</td>\n",
       "      <td>4.6</td>\n",
       "      <td>4.9</td>\n",
       "      <td>4.7</td>\n",
       "      <td>4.5</td>\n",
       "      <td>8.0</td>\n",
       "      <td>https://www.airbnb.co.uk/rooms/27055498?adults...</td>\n",
       "      <td>1.0</td>\n",
       "    </tr>\n",
       "    <tr>\n",
       "      <th>2</th>\n",
       "      <td>d577bc30-2222-4bef-a35e-a9825642aec4</td>\n",
       "      <td>Treehouses</td>\n",
       "      <td>Cabane Entre Les Pins\\n🌲🏕️🌲</td>\n",
       "      <td>Rustic cabin between the pines, 3 meters high ...</td>\n",
       "      <td>['What this place offers', 'Scenic views', 'Ga...</td>\n",
       "      <td>Duclair Normandie France</td>\n",
       "      <td>4.0</td>\n",
       "      <td>2.0</td>\n",
       "      <td>1.5</td>\n",
       "      <td>52.0</td>\n",
       "      <td>4.2</td>\n",
       "      <td>4.6</td>\n",
       "      <td>4.8</td>\n",
       "      <td>4.8</td>\n",
       "      <td>4.8</td>\n",
       "      <td>4.7</td>\n",
       "      <td>51.0</td>\n",
       "      <td>https://www.airbnb.co.uk/rooms/51427108?adults...</td>\n",
       "      <td>1.0</td>\n",
       "    </tr>\n",
       "    <tr>\n",
       "      <th>3</th>\n",
       "      <td>ca9cbfd4-7798-4e8d-8c17-d5a64fba0abc</td>\n",
       "      <td>Treehouses</td>\n",
       "      <td>Tree Top Cabin with log burner &amp; private hot tub</td>\n",
       "      <td>The Tree top cabin is situated in our peaceful...</td>\n",
       "      <td>['What this place offers', 'Bathroom', 'Hot wa...</td>\n",
       "      <td>Barmouth Wales United Kingdom</td>\n",
       "      <td>2.0</td>\n",
       "      <td>1.0</td>\n",
       "      <td>1.0</td>\n",
       "      <td>132.0</td>\n",
       "      <td>4.8</td>\n",
       "      <td>4.9</td>\n",
       "      <td>4.9</td>\n",
       "      <td>4.9</td>\n",
       "      <td>5.0</td>\n",
       "      <td>4.6</td>\n",
       "      <td>23.0</td>\n",
       "      <td>https://www.airbnb.co.uk/rooms/49543851?adults...</td>\n",
       "      <td>1.0</td>\n",
       "    </tr>\n",
       "    <tr>\n",
       "      <th>5</th>\n",
       "      <td>cfe479b9-c8f8-44af-9bc6-46ede9f14bb5</td>\n",
       "      <td>Treehouses</td>\n",
       "      <td>Treehouse near Paris Disney</td>\n",
       "      <td>Charming cabin nestled in the leaves, real unu...</td>\n",
       "      <td>['What this place offers', 'Bathroom', 'Hair d...</td>\n",
       "      <td>Le Plessis-Feu-Aussoux Île-de-France France</td>\n",
       "      <td>4.0</td>\n",
       "      <td>3.0</td>\n",
       "      <td>1.0</td>\n",
       "      <td>143.0</td>\n",
       "      <td>5.0</td>\n",
       "      <td>4.9</td>\n",
       "      <td>5.0</td>\n",
       "      <td>4.7</td>\n",
       "      <td>5.0</td>\n",
       "      <td>4.7</td>\n",
       "      <td>32.0</td>\n",
       "      <td>https://www.airbnb.co.uk/rooms/935398?adults=1...</td>\n",
       "      <td>2.0</td>\n",
       "    </tr>\n",
       "  </tbody>\n",
       "</table>\n",
       "</div>"
      ],
      "text/plain": [
       "                                     id    category  \\\n",
       "0  f9dcbd09-32ac-41d9-a0b1-fdb2793378cf  Treehouses   \n",
       "1  1b4736a7-e73e-45bc-a9b5-d3e7fcf652fd  Treehouses   \n",
       "2  d577bc30-2222-4bef-a35e-a9825642aec4  Treehouses   \n",
       "3  ca9cbfd4-7798-4e8d-8c17-d5a64fba0abc  Treehouses   \n",
       "5  cfe479b9-c8f8-44af-9bc6-46ede9f14bb5  Treehouses   \n",
       "\n",
       "                                              title  \\\n",
       "0                 Red Kite Tree Tent - Ynys Affalon   \n",
       "1    Az Alom Cabin - Treehouse Tree to Nature Cabin   \n",
       "2                       Cabane Entre Les Pins\\n🌲🏕️🌲   \n",
       "3  Tree Top Cabin with log burner & private hot tub   \n",
       "5                       Treehouse near Paris Disney   \n",
       "\n",
       "                                         description  \\\n",
       "0  Escape to one of these two fabulous Tree Tents...   \n",
       "1  Come and spend a romantic stay with a couple o...   \n",
       "2  Rustic cabin between the pines, 3 meters high ...   \n",
       "3  The Tree top cabin is situated in our peaceful...   \n",
       "5  Charming cabin nestled in the leaves, real unu...   \n",
       "\n",
       "                                           amenities  \\\n",
       "0  ['What this place offers', 'Bathroom', 'Shampo...   \n",
       "1  ['What this place offers', 'Bedroom and laundr...   \n",
       "2  ['What this place offers', 'Scenic views', 'Ga...   \n",
       "3  ['What this place offers', 'Bathroom', 'Hot wa...   \n",
       "5  ['What this place offers', 'Bathroom', 'Hair d...   \n",
       "\n",
       "                                      location  guests  beds  bathrooms  \\\n",
       "0             Llandrindod Wells United Kingdom     2.0   1.0        1.0   \n",
       "1                  Guyonvelle Grand Est France     3.0   3.0        0.0   \n",
       "2                     Duclair Normandie France     4.0   2.0        1.5   \n",
       "3                Barmouth Wales United Kingdom     2.0   1.0        1.0   \n",
       "5  Le Plessis-Feu-Aussoux Île-de-France France     4.0   3.0        1.0   \n",
       "\n",
       "   price_night  cleanliness_rate  accuracy_rate  communication_rate  \\\n",
       "0        105.0               4.6            4.7                 4.3   \n",
       "1         92.0               4.3            4.7                 4.6   \n",
       "2         52.0               4.2            4.6                 4.8   \n",
       "3        132.0               4.8            4.9                 4.9   \n",
       "5        143.0               5.0            4.9                 5.0   \n",
       "\n",
       "   location_rate  check-in_rate  value_rate  amenities_count  \\\n",
       "0            5.0            4.3         4.3             13.0   \n",
       "1            4.9            4.7         4.5              8.0   \n",
       "2            4.8            4.8         4.7             51.0   \n",
       "3            4.9            5.0         4.6             23.0   \n",
       "5            4.7            5.0         4.7             32.0   \n",
       "\n",
       "                                                 url  bedrooms  \n",
       "0  https://www.airbnb.co.uk/rooms/26620994?adults...       1.0  \n",
       "1  https://www.airbnb.co.uk/rooms/27055498?adults...       1.0  \n",
       "2  https://www.airbnb.co.uk/rooms/51427108?adults...       1.0  \n",
       "3  https://www.airbnb.co.uk/rooms/49543851?adults...       1.0  \n",
       "5  https://www.airbnb.co.uk/rooms/935398?adults=1...       2.0  "
      ]
     },
     "execution_count": 2,
     "metadata": {},
     "output_type": "execute_result"
    }
   ],
   "source": [
    "with ZipFile('./airbnb-property-listings.zip') as myzip:\n",
    "    data = myzip.open(\"AirbnbDataSci/tabular_data/AirBnbData.csv\")\n",
    "\n",
    "data_df = pd.read_csv(data)\n",
    "cleaned_data_df = data_df.pipe(data_cleaning.clean_tabular_data)\n",
    "cleaned_data_df.head()"
   ]
  },
  {
   "cell_type": "code",
   "execution_count": 3,
   "metadata": {},
   "outputs": [
    {
     "data": {
      "text/plain": [
       "0"
      ]
     },
     "execution_count": 3,
     "metadata": {},
     "output_type": "execute_result"
    }
   ],
   "source": [
    "cleaned_data_df.isna().sum().sum()"
   ]
  },
  {
   "cell_type": "markdown",
   "metadata": {},
   "source": [
    "## Baseline Model"
   ]
  },
  {
   "cell_type": "code",
   "execution_count": 4,
   "metadata": {},
   "outputs": [],
   "source": [
    "X = cleaned_data_df.select_dtypes('number').drop(columns = 'price_night')\n",
    "y = cleaned_data_df.price_night"
   ]
  },
  {
   "cell_type": "code",
   "execution_count": 5,
   "metadata": {},
   "outputs": [],
   "source": [
    "X_train, X_test, y_train, y_test = train_test_split(X, y, test_size=0.2, random_state=42)"
   ]
  },
  {
   "cell_type": "markdown",
   "metadata": {},
   "source": [
    "### Linear Regression with No Scaling"
   ]
  },
  {
   "cell_type": "code",
   "execution_count": 8,
   "metadata": {},
   "outputs": [
    {
     "data": {
      "text/plain": [
       "13371.730585482395"
      ]
     },
     "execution_count": 8,
     "metadata": {},
     "output_type": "execute_result"
    }
   ],
   "source": [
    "X_train_train, X_valid, y_train_train, y_valid = train_test_split(X_train, y_train, test_size=0.2, random_state=42)\n",
    "linear_regression = LinearRegression()\n",
    "linear_regression.fit(X_train_train, y_train_train)\n",
    "linear_regression_mse = mean_squared_error(y_valid, linear_regression.predict(X_valid))\n",
    "linear_regression_mse"
   ]
  },
  {
   "cell_type": "markdown",
   "metadata": {},
   "source": [
    "### Linear Regression with Standard Scaler"
   ]
  },
  {
   "cell_type": "code",
   "execution_count": 10,
   "metadata": {},
   "outputs": [
    {
     "data": {
      "text/plain": [
       "13371.730585482373"
      ]
     },
     "execution_count": 10,
     "metadata": {},
     "output_type": "execute_result"
    }
   ],
   "source": [
    "std_scaler = StandardScaler()\n",
    "X_train_train_std_scale = std_scaler.fit_transform(X_train_train)\n",
    "linear_regression_std_scale = LinearRegression()\n",
    "linear_regression_std_scale.fit(X_train_train_std_scale, y_train_train)\n",
    "linear_regression_std_scale_mse = mean_squared_error(y_valid, linear_regression_std_scale.predict(std_scaler.transform(X_valid)))\n",
    "linear_regression_std_scale_mse"
   ]
  },
  {
   "cell_type": "markdown",
   "metadata": {},
   "source": [
    "### Linear Regression with Min-Max Scaler"
   ]
  },
  {
   "cell_type": "code",
   "execution_count": 11,
   "metadata": {},
   "outputs": [
    {
     "data": {
      "text/plain": [
       "13371.730585482375"
      ]
     },
     "execution_count": 11,
     "metadata": {},
     "output_type": "execute_result"
    }
   ],
   "source": [
    "min_max_scaler = MinMaxScaler()\n",
    "X_train_train_min_max_scale = min_max_scaler.fit_transform(X_train_train)\n",
    "linear_regression_min_max_scale = LinearRegression()\n",
    "linear_regression_min_max_scale.fit(X_train_train_min_max_scale, y_train_train)\n",
    "linear_regression_min_max_scale_mse = mean_squared_error(y_valid, linear_regression_min_max_scale.predict(min_max_scaler.transform(X_valid)))\n",
    "linear_regression_min_max_scale_mse"
   ]
  },
  {
   "cell_type": "markdown",
   "metadata": {},
   "source": [
    "### SGD Regressor with No Scaling"
   ]
  },
  {
   "cell_type": "code",
   "execution_count": 13,
   "metadata": {},
   "outputs": [
    {
     "data": {
      "text/plain": [
       "5.598455051690578e+20"
      ]
     },
     "execution_count": 13,
     "metadata": {},
     "output_type": "execute_result"
    }
   ],
   "source": [
    "sgd_regression = SGDRegressor()\n",
    "sgd_regression.fit(X_train_train, y_train_train)\n",
    "sgd_regression_mse = mean_squared_error(y_valid, sgd_regression.predict(X_valid))\n",
    "sgd_regression_mse"
   ]
  },
  {
   "cell_type": "markdown",
   "metadata": {},
   "source": [
    "### SGD Regressor with Standard Scaler"
   ]
  },
  {
   "cell_type": "code",
   "execution_count": 14,
   "metadata": {},
   "outputs": [
    {
     "data": {
      "text/plain": [
       "13385.845975513213"
      ]
     },
     "execution_count": 14,
     "metadata": {},
     "output_type": "execute_result"
    }
   ],
   "source": [
    "std_scaler = StandardScaler()\n",
    "X_train_train_std_scale = std_scaler.fit_transform(X_train_train)\n",
    "sgd_regression_std_scale = SGDRegressor()\n",
    "sgd_regression_std_scale.fit(X_train_train_std_scale, y_train_train)\n",
    "sgd_regression_std_scale_mse = mean_squared_error(y_valid, sgd_regression_std_scale.predict(std_scaler.transform(X_valid)))\n",
    "sgd_regression_std_scale_mse"
   ]
  },
  {
   "cell_type": "markdown",
   "metadata": {},
   "source": [
    "### SGD Regressor with Min-Max Scaler"
   ]
  },
  {
   "cell_type": "code",
   "execution_count": 15,
   "metadata": {},
   "outputs": [
    {
     "data": {
      "text/plain": [
       "15793.375873913477"
      ]
     },
     "execution_count": 15,
     "metadata": {},
     "output_type": "execute_result"
    }
   ],
   "source": [
    "min_max_scaler = MinMaxScaler()\n",
    "X_train_train_min_max_scale = min_max_scaler.fit_transform(X_train_train)\n",
    "sgd_regression_min_max_scale = SGDRegressor()\n",
    "sgd_regression_min_max_scale.fit(X_train_train_min_max_scale, y_train_train)\n",
    "sgd_regression_min_max_scale_mse = mean_squared_error(y_valid, sgd_regression_min_max_scale.predict(min_max_scaler.transform(X_valid)))\n",
    "sgd_regression_min_max_scale_mse"
   ]
  },
  {
   "cell_type": "markdown",
   "metadata": {},
   "source": [
    "So the best baseline MSE is with Linear Regression and a score of 13371."
   ]
  },
  {
   "cell_type": "code",
   "execution_count": 16,
   "metadata": {},
   "outputs": [
    {
     "data": {
      "text/plain": [
       "8867.150982054105"
      ]
     },
     "execution_count": 16,
     "metadata": {},
     "output_type": "execute_result"
    }
   ],
   "source": [
    "linear_regression_train_mse = mean_squared_error(y_train_train, linear_regression.predict(X_train_train))\n",
    "linear_regression_train_mse"
   ]
  },
  {
   "cell_type": "markdown",
   "metadata": {},
   "source": [
    "So the best model so far is over-fitting."
   ]
  },
  {
   "cell_type": "code",
   "execution_count": null,
   "metadata": {},
   "outputs": [],
   "source": []
  }
 ],
 "metadata": {
  "kernelspec": {
   "display_name": "Python 3.10.6 ('airbnb_predictor')",
   "language": "python",
   "name": "python3"
  },
  "language_info": {
   "codemirror_mode": {
    "name": "ipython",
    "version": 3
   },
   "file_extension": ".py",
   "mimetype": "text/x-python",
   "name": "python",
   "nbconvert_exporter": "python",
   "pygments_lexer": "ipython3",
   "version": "3.10.6"
  },
  "orig_nbformat": 4,
  "vscode": {
   "interpreter": {
    "hash": "084a6f1b79bbfc33ad562b2a1419f648bdd82ad13757ce6aeb550748c7393e20"
   }
  }
 },
 "nbformat": 4,
 "nbformat_minor": 2
}
